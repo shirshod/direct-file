version https://git-lfs.github.com/spec/v1
oid sha256:a9c79b1c1d39109ef1c13d4fbff97a08616131e8a2deb8691f92d17df1e2f415
size 38679

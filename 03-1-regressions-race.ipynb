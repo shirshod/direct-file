version https://git-lfs.github.com/spec/v1
oid sha256:095fa68b239f76c45ac6c74c16c1eff13f31b7d264a1645e2774a98f8500fb6e
size 488570

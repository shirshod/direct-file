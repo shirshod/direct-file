version https://git-lfs.github.com/spec/v1
oid sha256:2294e3607d6bea8b75d2ac91461687b94fad43d05acbe92bb89b31d3db6a298f
size 38739

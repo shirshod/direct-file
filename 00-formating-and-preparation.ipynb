version https://git-lfs.github.com/spec/v1
oid sha256:892e60c82669c7d3c12e1044a28b911cb93a993a93fb1102cfde8beaf6deb88f
size 91005

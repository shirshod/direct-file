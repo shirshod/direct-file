version https://git-lfs.github.com/spec/v1
oid sha256:e295a3ea49b438c37c8add1221c01f2ec8d2e7ac904e75c7549e045357d0b9c7
size 644874

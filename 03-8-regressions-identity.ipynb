version https://git-lfs.github.com/spec/v1
oid sha256:77243ba6b6563648d9b224dd9138cf1cac10a3ddf18fbf3d4becbe2697e9427a
size 1157431
